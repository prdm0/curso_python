{
 "cells": [
  {
   "cell_type": "markdown",
   "id": "981c254d-d409-4fc5-a65d-6195f47cecac",
   "metadata": {},
   "source": [
    "# Bem vindo ao curso de Python\n",
    "\n",
    "O curso de _Python_ é oferecido aos discentes do curso do Bacharelado em Estatística da **Universidade Federal da Paraíba** e ~~outras universidades~~. Espero que gostem do curso. "
   ]
  },
  {
   "cell_type": "markdown",
   "id": "ec25df0b-c898-41a3-b6a1-54d028e5bde0",
   "metadata": {},
   "source": [
    "## Por que Python\n",
    "\n",
    "Abaixo enumero alguns motivos para você estudar Python:\n",
    "\n",
    "1. Python é Open Source;\n",
    "2. Python é uma linguagem fácil de aprender:\n",
    "    + Apesar de fácil, você deve se dedicar\n",
    "        + Essa linguagem irá abrir portas para você!\n",
    "\n",
    "### Uma outra subsubseção\n",
    "\n",
    "Par sair criando subseções basta utilizar a notação `#`. Entendeu?\n",
    "\n",
    "Se você precisar especificar um código no seu texto, faça fonrme abaixo:\n",
    "\n",
    "```\n",
    "def cumprimento(nome = \"Fulano de Tal\"):\n",
    "    return \"Seja bem vindo(a), nome!\"\n",
    "```"
   ]
  },
  {
   "cell_type": "code",
   "execution_count": 1,
   "id": "d28f4ee6-d94b-467f-a640-f08c88f403cf",
   "metadata": {},
   "outputs": [
    {
     "name": "stdout",
     "output_type": "stream",
     "text": [
      "Seja bem vindo(a), Fulano de Tal!\n"
     ]
    }
   ],
   "source": [
    "# Agora aqui estou em uma célula de código. Vamos executar a função acima.\n",
    "# Para tanto, precisodefinir a função\n",
    "\n",
    "def cumprimento(nome = \"Fulano de Tal\"):\n",
    "    return f\"Seja bem vindo(a), {nome}!\"\n",
    "    \n",
    "print(cumprimento())"
   ]
  },
  {
   "cell_type": "markdown",
   "id": "11c6e072-dfb3-499d-aa72-19bc941e9429",
   "metadata": {},
   "source": [
    "# Voltei ao ambiente de Markdown\n",
    "\n",
    "Podemos utilizar fórmulas em $\\LaTeX$. Para trabalhar com textos matemáticos e ciência de dados, isso é bastante útil. Dá para explicar melhor sua análise. \n",
    "\n",
    "Seja $X_1, \\cdots, X_n$ uma sequência de variáveis aleatórias v.a. independentes e identicamente distribuídas (iids). Então, pela [Lei dos Grandes Números](https://pt.wikipedia.org/wiki/Lei_dos_grandes_n%C3%BAmeros), temos que \n",
    "\n",
    "$$\\overline{X} \\sim \\mathcal{N}(\\mu, \\sigma^2/n)$$\n",
    "\n",
    "Se você ainda não conhece a distribuição normal, ela tem a seguinte cara. Mas antes, você deverá instalar as seguintes bibliotecas:\n",
    "\n",
    "+ **numpy**: no terminal do Linux, rode o comando `pip install -U numpy`;\n",
    "+ **matplotlib**: também no terminal, execute o código `pip install -U matplotlib`\n"
   ]
  },
  {
   "cell_type": "code",
   "execution_count": 30,
   "id": "659843f1-60fc-4ca0-8d84-8821bfbcd0ac",
   "metadata": {},
   "outputs": [
    {
     "data": {
      "text/plain": [
       "(array([  9.,  20.,  70., 146., 217., 239., 160.,  86.,  38.,  15.]),\n",
       " array([-3.04614305, -2.46559324, -1.88504342, -1.3044936 , -0.72394379,\n",
       "        -0.14339397,  0.43715585,  1.01770566,  1.59825548,  2.1788053 ,\n",
       "         2.75935511]),\n",
       " <BarContainer object of 10 artists>)"
      ]
     },
     "execution_count": 30,
     "metadata": {},
     "output_type": "execute_result"
    },
    {
     "data": {
      "image/png": "[encoded data removed]",
      "text/plain": [
       "<Figure size 640x480 with 1 Axes>"
      ]
     },
     "metadata": {},
     "output_type": "display_data"
    }
   ],
   "source": [
    "%matplotlib inline\n",
    "import numpy as np\n",
    "import matplotlib as plt\n",
    "\n",
    "np.random.seed(0)\n",
    "vetor = np.random.normal(loc = 0, scale = 1, size = 1_000)\n",
    "\n",
    "\n",
    "plt.pyplot.hist(vetor)\n",
    "\n"
   ]
  },
  {
   "cell_type": "markdown",
   "id": "85f40865-a460-4970-9e8e-d0246a497ea5",
   "metadata": {},
   "source": [
    "Colocando uma citação:\n",
    "\n",
    "> Todos modelos são ruins. Alguns são úteis\n",
    "\n",
    "Você poderá colocar uma tabela também:\n",
    "\n",
    "Coluna 1 | Coluna 2 | Coluna 3\n",
    "-------- | -------- | --------\n",
    "Linha 1  | Valor 1  | Valor 2\n",
    "Linha 2  | Valor 3  | Valor 4"
   ]
  }
 ],
 "metadata": {
  "kernelspec": {
   "display_name": "Python 3 (ipykernel)",
   "language": "python",
   "name": "python3"
  },
  "language_info": {
   "codemirror_mode": {
    "name": "ipython",
    "version": 3
   },
   "file_extension": ".py",
   "mimetype": "text/x-python",
   "name": "python",
   "nbconvert_exporter": "python",
   "pygments_lexer": "ipython3",
   "version": "3.10.9"
  },
  "widgets": {
   "application/vnd.jupyter.widget-state+json": {
    "state": {},
    "version_major": 2,
    "version_minor": 0
   }
  }
 },
 "nbformat": 4,
 "nbformat_minor": 5
}
